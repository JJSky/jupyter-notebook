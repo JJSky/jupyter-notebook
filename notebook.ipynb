{
  "nbformat": 4,
  "nbformat_minor": 0,
  "metadata": {
    "kernelspec": {
      "display_name": "Python 3",
      "language": "python",
      "name": "python3"
    },
    "language_info": {
      "codemirror_mode": {
        "name": "ipython",
        "version": 3
      },
      "file_extension": ".py",
      "mimetype": "text/x-python",
      "name": "python",
      "nbconvert_exporter": "python",
      "pygments_lexer": "ipython3",
      "version": "3.7.3"
    },
    "colab": {
      "name": "notebook.ipynb",
      "version": "0.3.2",
      "provenance": []
    }
  },
  "cells": [
    {
      "cell_type": "code",
      "metadata": {
        "id": "eJR4HlV0R41U",
        "colab_type": "code",
        "colab": {},
        "outputId": "89fb8b9b-496c-496c-c6aa-40e1c26d2ce7"
      },
      "source": [
        "a = 5\n",
        "b = 2\n",
        "print(a+b)\n",
        "print(type(a))\n",
        "help(print)"
      ],
      "execution_count": 0,
      "outputs": [
        {
          "output_type": "stream",
          "text": [
            "7\n",
            "<class 'int'>\n",
            "Help on built-in function print in module builtins:\n",
            "\n",
            "print(...)\n",
            "    print(value, ..., sep=' ', end='\\n', file=sys.stdout, flush=False)\n",
            "    \n",
            "    Prints the values to a stream, or to sys.stdout by default.\n",
            "    Optional keyword arguments:\n",
            "    file:  a file-like object (stream); defaults to the current sys.stdout.\n",
            "    sep:   string inserted between values, default a space.\n",
            "    end:   string appended after the last value, default a newline.\n",
            "    flush: whether to forcibly flush the stream.\n",
            "\n"
          ],
          "name": "stdout"
        }
      ]
    },
    {
      "cell_type": "code",
      "metadata": {
        "id": "meZB8xjgR-Pq",
        "colab_type": "code",
        "colab": {
          "base_uri": "https://localhost:8080/",
          "height": 34
        },
        "outputId": "49696877-9359-4b12-9e61-e9b9d197f8db"
      },
      "source": [
        "print(\"garbage\")"
      ],
      "execution_count": 1,
      "outputs": [
        {
          "output_type": "stream",
          "text": [
            "garbage\n"
          ],
          "name": "stdout"
        }
      ]
    },
    {
      "cell_type": "code",
      "metadata": {
        "id": "qru5np-VR41k",
        "colab_type": "code",
        "colab": {},
        "outputId": "80e78844-7050-454b-a3fa-89cfcc8e500a"
      },
      "source": [
        "print(1,2,3,4,5, sep=' -> ')"
      ],
      "execution_count": 0,
      "outputs": [
        {
          "output_type": "stream",
          "text": [
            "1 -> 2 -> 3 -> 4 -> 5\n"
          ],
          "name": "stdout"
        }
      ]
    },
    {
      "cell_type": "code",
      "metadata": {
        "id": "gtmG97SsR41t",
        "colab_type": "code",
        "colab": {},
        "outputId": "d328a63f-8f8c-4f17-f511-fb646f19a4a9"
      },
      "source": [
        "def example_function(a, b):\n",
        "    return a/b\n",
        "\n",
        "print(example_function(69, 8))"
      ],
      "execution_count": 0,
      "outputs": [
        {
          "output_type": "stream",
          "text": [
            "8.625\n"
          ],
          "name": "stdout"
        }
      ]
    },
    {
      "cell_type": "code",
      "metadata": {
        "id": "pM0xBXO0R412",
        "colab_type": "code",
        "colab": {},
        "outputId": "9982d0fb-3453-4a97-c900-7420ea4eaad5"
      },
      "source": [
        "# output number of words in a string\n",
        "def num_strings(val):\n",
        "    arr = val.split()\n",
        "    return len(arr)\n",
        "\n",
        "print(num_strings('Hello world this is 5'))\n",
        "print(num_strings('How are you'))"
      ],
      "execution_count": 0,
      "outputs": [
        {
          "output_type": "stream",
          "text": [
            "5\n",
            "3\n"
          ],
          "name": "stdout"
        }
      ]
    }
  ]
}